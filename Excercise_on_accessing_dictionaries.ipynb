{
 "cells": [
  {
   "cell_type": "code",
   "execution_count": 107,
   "id": "6cccbc95",
   "metadata": {},
   "outputs": [],
   "source": [
    "coffee_shop = {\n",
    "    \"products\": [\n",
    "        {\"id\": 1, \"name\": \"Espresso Beans 1kg\", \"price\": 18.50, \"stock\": 12, \"category\": \"coffee\"},\n",
    "        {\"id\": 2, \"name\": \"French Press\",       \"price\": 24.00, \"stock\": 5,  \"category\": \"gear\"},\n",
    "        {\"id\": 3, \"name\": \"Mug\",                \"price\": 8.00,  \"stock\": 0,  \"category\": \"gear\"},\n",
    "        {\"id\": 4, \"name\": \"Filter Papers (100)\", \"price\": 4.50, \"stock\": 40, \"category\": \"consumable\"},\n",
    "        {\"id\": 5, \"name\": \"Cold Brew Bottle\",   \"price\": 14.90, \"stock\": 7,  \"category\": \"gear\"},\n",
    "    ],\n",
    "    \"customers\": [\n",
    "        {\"id\": 101, \"name\": \"Alice\", \"city\": \"Berlin\"},\n",
    "        {\"id\": 102, \"name\": \"Ben\",   \"city\": \"Hamburg\"},\n",
    "        {\"id\": 103, \"name\": \"Chloe\", \"city\": \"Berlin\"},\n",
    "        {\"id\": 104, \"name\": \"Diego\", \"city\": \"Munich\"},\n",
    "    ],\n",
    "    \"orders\": [\n",
    "        {\"order_id\": \"O1001\", \"customer_id\": 101, \"date\": \"2025-08-25\",\n",
    "         \"items\": [{\"product_id\": 1, \"qty\": 1}, {\"product_id\": 3, \"qty\": 2}]},\n",
    "        {\"order_id\": \"O1002\", \"customer_id\": 102, \"date\": \"2025-08-26\",\n",
    "         \"items\": [{\"product_id\": 2, \"qty\": 1}]},\n",
    "        {\"order_id\": \"O1003\", \"customer_id\": 101, \"date\": \"2025-08-26\",\n",
    "         \"items\": [{\"product_id\": 4, \"qty\": 5}]},\n",
    "        {\"order_id\": \"O1004\", \"customer_id\": 103, \"date\": \"2025-08-27\",\n",
    "         \"items\": [{\"product_id\": 1, \"qty\": 2}, {\"product_id\": 5, \"qty\": 1}]},\n",
    "        {\"order_id\": \"O1005\", \"customer_id\": 104, \"date\": \"2025-08-28\",\n",
    "         \"items\": [{\"product_id\": 3, \"qty\": 1}, {\"product_id\": 4, \"qty\": 2}]},\n",
    "        {\"order_id\": \"O1006\", \"customer_id\": 103, \"date\": \"2025-08-29\",\n",
    "         \"items\": [{\"product_id\": 2, \"qty\": 1}, {\"product_id\": 4, \"qty\": 1}]},\n",
    "    ],\n",
    "}"
   ]
  },
  {
   "cell_type": "code",
   "execution_count": 108,
   "id": "003102d7",
   "metadata": {},
   "outputs": [
    {
     "data": {
      "text/plain": [
       "{'id': 1,\n",
       " 'name': 'Espresso Beans 1kg',\n",
       " 'price': 18.5,\n",
       " 'stock': 12,\n",
       " 'category': 'coffee'}"
      ]
     },
     "execution_count": 108,
     "metadata": {},
     "output_type": "execute_result"
    }
   ],
   "source": [
    "coffee_shop['products'][0]#['id']"
   ]
  },
  {
   "cell_type": "code",
   "execution_count": 109,
   "id": "fae100ed",
   "metadata": {},
   "outputs": [],
   "source": [
    "list_of_products = []\n",
    "\n",
    "for i in coffee_shop['products']:\n",
    "    list_of_products.append(i['id'])"
   ]
  },
  {
   "cell_type": "code",
   "execution_count": 110,
   "id": "6321ae84",
   "metadata": {},
   "outputs": [
    {
     "data": {
      "text/plain": [
       "[1, 2, 3, 4, 5]"
      ]
     },
     "execution_count": 110,
     "metadata": {},
     "output_type": "execute_result"
    }
   ],
   "source": [
    "list_of_products"
   ]
  },
  {
   "cell_type": "code",
   "execution_count": 111,
   "id": "60984db1",
   "metadata": {},
   "outputs": [],
   "source": [
    "list_of_prices = []\n",
    "for i in coffee_shop['products']:\n",
    "    list_of_prices.append(i['price'])"
   ]
  },
  {
   "cell_type": "code",
   "execution_count": 112,
   "id": "537e42e7",
   "metadata": {},
   "outputs": [],
   "source": [
    "list_of_products_ordered = []\n",
    "quantity_of_each_order = []\n",
    "for order in coffee_shop[\"orders\"]:\n",
    "    for x in order['items']:\n",
    "        list_of_products_ordered.append(x['product_id'])"
   ]
  },
  {
   "cell_type": "code",
   "execution_count": 113,
   "id": "393e1bb5",
   "metadata": {},
   "outputs": [],
   "source": [
    "for order in coffee_shop[\"orders\"]:\n",
    "    for x in order['items']:\n",
    "        quantity_of_each_order.append(x['qty'])"
   ]
  },
  {
   "cell_type": "code",
   "execution_count": 114,
   "id": "18a39f88",
   "metadata": {},
   "outputs": [
    {
     "data": {
      "text/plain": [
       "[1, 3, 2, 4, 1, 5, 3, 4, 2, 4]"
      ]
     },
     "execution_count": 114,
     "metadata": {},
     "output_type": "execute_result"
    }
   ],
   "source": [
    "list_of_products_ordered"
   ]
  },
  {
   "cell_type": "code",
   "execution_count": 115,
   "id": "1b4c07be",
   "metadata": {},
   "outputs": [
    {
     "data": {
      "text/plain": [
       "[1, 2, 1, 5, 2, 1, 1, 2, 1, 1]"
      ]
     },
     "execution_count": 115,
     "metadata": {},
     "output_type": "execute_result"
    }
   ],
   "source": [
    "quantity_of_each_order"
   ]
  },
  {
   "cell_type": "code",
   "execution_count": 116,
   "id": "70daae2d",
   "metadata": {},
   "outputs": [
    {
     "data": {
      "text/plain": [
       "[1, 2, 3, 4, 5]"
      ]
     },
     "execution_count": 116,
     "metadata": {},
     "output_type": "execute_result"
    }
   ],
   "source": [
    "list_of_products"
   ]
  },
  {
   "cell_type": "code",
   "execution_count": 117,
   "id": "7ca62630",
   "metadata": {},
   "outputs": [
    {
     "data": {
      "text/plain": [
       "[18.5, 24.0, 8.0, 4.5, 14.9]"
      ]
     },
     "execution_count": 117,
     "metadata": {},
     "output_type": "execute_result"
    }
   ],
   "source": [
    "list_of_prices"
   ]
  },
  {
   "cell_type": "code",
   "execution_count": 118,
   "id": "4f0abbb7",
   "metadata": {},
   "outputs": [],
   "source": [
    "dictionary_products_prices = {}\n",
    "for product, price in zip(list_of_products, list_of_prices):\n",
    "    dictionary_products_prices[product] = price"
   ]
  },
  {
   "cell_type": "code",
   "execution_count": 119,
   "id": "399b30c7",
   "metadata": {},
   "outputs": [],
   "source": [
    "###########"
   ]
  },
  {
   "cell_type": "code",
   "execution_count": 138,
   "id": "c86616f3",
   "metadata": {},
   "outputs": [],
   "source": [
    "# 1- retrieve the total revenue of our shop in Berlin\n",
    "total_revenue = 0\n",
    "\n",
    "list_of_customer_ids = []\n",
    "\n",
    "for customer in coffee_shop[\"customers\"]:\n",
    "    if customer['city'] == 'Berlin':\n",
    "        list_of_customer_ids.append(customer[\"id\"])\n",
    "    \n",
    "for order in coffee_shop[\"orders\"]:\n",
    "    if order['customer_id'] in list_of_customer_ids:\n",
    "        for item in order['items']:\n",
    "            product_id = item['product_id']\n",
    "            quantity = item['qty']\n",
    "            price = dictionary_products_prices[product_id]\n",
    "            total_revenue += quantity * price"
   ]
  },
  {
   "cell_type": "code",
   "execution_count": 139,
   "id": "6eea8cd9",
   "metadata": {},
   "outputs": [
    {
     "data": {
      "text/plain": [
       "137.4"
      ]
     },
     "execution_count": 139,
     "metadata": {},
     "output_type": "execute_result"
    }
   ],
   "source": [
    "total_revenue"
   ]
  },
  {
   "cell_type": "code",
   "execution_count": 140,
   "id": "8f718d00",
   "metadata": {},
   "outputs": [],
   "source": [
    "def calculate_revenue_by_city(city):\n",
    "    total_revenue = 0\n",
    "\n",
    "    list_of_customer_ids = []\n",
    "\n",
    "    for customer in coffee_shop[\"customers\"]:\n",
    "        if customer['city'] == city:\n",
    "            list_of_customer_ids.append(customer[\"id\"])\n",
    "\n",
    "    for order in coffee_shop[\"orders\"]:\n",
    "        if order['customer_id'] in list_of_customer_ids:\n",
    "            for item in order['items']:\n",
    "                product_id = item['product_id']\n",
    "                quantity = item['qty']\n",
    "                price = dictionary_products_prices[product_id]\n",
    "                total_revenue += quantity * price\n",
    "    return total_revenue"
   ]
  },
  {
   "cell_type": "code",
   "execution_count": 141,
   "id": "3a81bc43",
   "metadata": {},
   "outputs": [
    {
     "data": {
      "text/plain": [
       "137.4"
      ]
     },
     "execution_count": 141,
     "metadata": {},
     "output_type": "execute_result"
    }
   ],
   "source": [
    "calculate_revenue_by_city(\"Berlin\")"
   ]
  },
  {
   "cell_type": "code",
   "execution_count": 142,
   "id": "b1919bc8",
   "metadata": {},
   "outputs": [],
   "source": [
    "# 2- retrieve the product that has brought the most money"
   ]
  },
  {
   "cell_type": "code",
   "execution_count": 143,
   "id": "214de6d9",
   "metadata": {},
   "outputs": [],
   "source": [
    "total_revenue_per_product = {1:0, 2:0, 3:0, 4:0, 5:0}\n",
    "for product, quantity in zip(list_of_products_ordered,  quantity_of_each_order):\n",
    "        total_revenue_per_product[product] += quantity * dictionary_products_prices[product]"
   ]
  },
  {
   "cell_type": "code",
   "execution_count": 144,
   "id": "79f8c9fb",
   "metadata": {},
   "outputs": [
    {
     "data": {
      "text/plain": [
       "{1: 55.5, 2: 48.0, 3: 24.0, 4: 36.0, 5: 14.9}"
      ]
     },
     "execution_count": 144,
     "metadata": {},
     "output_type": "execute_result"
    }
   ],
   "source": [
    "total_revenue_per_product"
   ]
  }
 ],
 "metadata": {
  "kernelspec": {
   "display_name": "Python 3 (ipykernel)",
   "language": "python",
   "name": "python3"
  },
  "language_info": {
   "codemirror_mode": {
    "name": "ipython",
    "version": 3
   },
   "file_extension": ".py",
   "mimetype": "text/x-python",
   "name": "python",
   "nbconvert_exporter": "python",
   "pygments_lexer": "ipython3",
   "version": "3.9.13"
  }
 },
 "nbformat": 4,
 "nbformat_minor": 5
}
